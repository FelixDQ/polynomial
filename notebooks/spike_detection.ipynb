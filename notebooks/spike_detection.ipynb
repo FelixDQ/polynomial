{
 "cells": [
  {
   "cell_type": "code",
   "execution_count": null,
   "id": "5e485f68",
   "metadata": {},
   "outputs": [],
   "source": [
    "%load_ext autoreload\n",
    "%autoreload 2\n",
    "\n",
    "import pandas as pd\n",
    "import matplotlib.pyplot as plt\n",
    "\n",
    "from datetime import date, datetime, timedelta"
   ]
  },
  {
   "cell_type": "code",
   "execution_count": null,
   "id": "ae987099",
   "metadata": {},
   "outputs": [],
   "source": [
    "from mainapp.views.dashboard import query_measurements_without_gaps"
   ]
  },
  {
   "cell_type": "code",
   "execution_count": null,
   "id": "727f9dc2",
   "metadata": {},
   "outputs": [],
   "source": [
    "from asgiref.sync import sync_to_async\n",
    "from mainapp.tasks.metric_analyse import LOOKBACK_DAYS\n",
    "\n",
    "@sync_to_async\n",
    "def query(metric_id):\n",
    "    end_date = date.today()\n",
    "    start_date = end_date - timedelta(days=LOOKBACK_DAYS)\n",
    "    results = query_measurements_without_gaps(start_date, end_date, metric_id)\n",
    "    df = pd.DataFrame([{'date': m.date, 'value': m.value} for m in results]).set_index('date')\n",
    "    df.index = pd.to_datetime(df.index)\n",
    "    return df"
   ]
  },
  {
   "cell_type": "code",
   "execution_count": null,
   "id": "ee2ae2f6",
   "metadata": {},
   "outputs": [],
   "source": [
    "from mainapp.tasks.metric_analyse import STD_MULTIPLIER, TREND_ROLLING_DAYS, detected_spike\n",
    "from mainapp.models import Metric\n",
    "\n",
    "metric = await sync_to_async(Metric.objects.get)(name='XXX')\n",
    "metric_id = metric.id\n",
    "df = await query(metric_id)\n",
    "\n",
    "df['trend'] = df['value'].rolling(TREND_ROLLING_DAYS).mean()\n",
    "std = df['trend'].std()\n",
    "ax = df[['value', 'trend']].plot(style='.-', title=metric.name);\n",
    "# add noise level\n",
    "d = df.index.to_pydatetime()\n",
    "plt.fill_between(d, df['trend'] - std * STD_MULTIPLIER, df['trend'] + std * STD_MULTIPLIER, alpha=0.2)\n",
    "# detect points\n",
    "df['is_spike'] = (~df['value'].isna()) & ((df['trend'] - df['value']).abs() > std * STD_MULTIPLIER)\n",
    "# mark\n",
    "df['value'].where(df['is_spike']).plot(style='o', color='red')\n",
    "\n",
    "# Check current implementation\n",
    "await sync_to_async(detected_spike)(metric_id)"
   ]
  },
  {
   "cell_type": "code",
   "execution_count": null,
   "id": "6afb619b",
   "metadata": {},
   "outputs": [],
   "source": []
  }
 ],
 "metadata": {
  "kernelspec": {
   "display_name": "Django Shell-Plus",
   "language": "python",
   "name": "django_extensions"
  },
  "language_info": {
   "codemirror_mode": {
    "name": "ipython",
    "version": 3
   },
   "file_extension": ".py",
   "mimetype": "text/x-python",
   "name": "python",
   "nbconvert_exporter": "python",
   "pygments_lexer": "ipython3",
   "version": "3.9.16"
  }
 },
 "nbformat": 4,
 "nbformat_minor": 5
}
